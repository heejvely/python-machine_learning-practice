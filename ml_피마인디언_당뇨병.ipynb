{
  "nbformat": 4,
  "nbformat_minor": 0,
  "metadata": {
    "colab": {
      "name": "ml_피마인디언 당뇨병.ipynb",
      "provenance": [],
      "collapsed_sections": [],
      "machine_shape": "hm",
      "mount_file_id": "1v_iZKBg3s1uraa3iqM99w27NeSFj3oGv",
      "authorship_tag": "ABX9TyMWCvUQJKhTe/L61Pjfha9x",
      "include_colab_link": true
    },
    "kernelspec": {
      "name": "python3",
      "display_name": "Python 3"
    },
    "language_info": {
      "name": "python"
    },
    "accelerator": "TPU"
  },
  "cells": [
    {
      "cell_type": "markdown",
      "metadata": {
        "id": "view-in-github",
        "colab_type": "text"
      },
      "source": [
        "<a href=\"https://colab.research.google.com/github/heejvely/python-machine_learning-practice/blob/main/ml_%ED%94%BC%EB%A7%88%EC%9D%B8%EB%94%94%EC%96%B8_%EB%8B%B9%EB%87%A8%EB%B3%91.ipynb\" target=\"_parent\"><img src=\"https://colab.research.google.com/assets/colab-badge.svg\" alt=\"Open In Colab\"/></a>"
      ]
    },
    {
      "cell_type": "code",
      "metadata": {
        "colab": {
          "base_uri": "https://localhost:8080/",
          "height": 206
        },
        "id": "OAhmM7gaRk6V",
        "outputId": "c4948d38-fadc-45c8-dea1-f0200dc0b5be"
      },
      "source": [
        "import pandas as pd\n",
        "\n",
        "df = pd.read_csv('/content/drive/MyDrive/빅분기연습/dataset/diabetes.csv')\n",
        "df.head()"
      ],
      "execution_count": 1,
      "outputs": [
        {
          "output_type": "execute_result",
          "data": {
            "text/html": [
              "<div>\n",
              "<style scoped>\n",
              "    .dataframe tbody tr th:only-of-type {\n",
              "        vertical-align: middle;\n",
              "    }\n",
              "\n",
              "    .dataframe tbody tr th {\n",
              "        vertical-align: top;\n",
              "    }\n",
              "\n",
              "    .dataframe thead th {\n",
              "        text-align: right;\n",
              "    }\n",
              "</style>\n",
              "<table border=\"1\" class=\"dataframe\">\n",
              "  <thead>\n",
              "    <tr style=\"text-align: right;\">\n",
              "      <th></th>\n",
              "      <th>Pregnancies</th>\n",
              "      <th>Glucose</th>\n",
              "      <th>BloodPressure</th>\n",
              "      <th>SkinThickness</th>\n",
              "      <th>Insulin</th>\n",
              "      <th>BMI</th>\n",
              "      <th>DiabetesPedigreeFunction</th>\n",
              "      <th>Age</th>\n",
              "      <th>Outcome</th>\n",
              "    </tr>\n",
              "  </thead>\n",
              "  <tbody>\n",
              "    <tr>\n",
              "      <th>0</th>\n",
              "      <td>6</td>\n",
              "      <td>148</td>\n",
              "      <td>72</td>\n",
              "      <td>35</td>\n",
              "      <td>0</td>\n",
              "      <td>33.6</td>\n",
              "      <td>0.627</td>\n",
              "      <td>50</td>\n",
              "      <td>1</td>\n",
              "    </tr>\n",
              "    <tr>\n",
              "      <th>1</th>\n",
              "      <td>1</td>\n",
              "      <td>85</td>\n",
              "      <td>66</td>\n",
              "      <td>29</td>\n",
              "      <td>0</td>\n",
              "      <td>26.6</td>\n",
              "      <td>0.351</td>\n",
              "      <td>31</td>\n",
              "      <td>0</td>\n",
              "    </tr>\n",
              "    <tr>\n",
              "      <th>2</th>\n",
              "      <td>8</td>\n",
              "      <td>183</td>\n",
              "      <td>64</td>\n",
              "      <td>0</td>\n",
              "      <td>0</td>\n",
              "      <td>23.3</td>\n",
              "      <td>0.672</td>\n",
              "      <td>32</td>\n",
              "      <td>1</td>\n",
              "    </tr>\n",
              "    <tr>\n",
              "      <th>3</th>\n",
              "      <td>1</td>\n",
              "      <td>89</td>\n",
              "      <td>66</td>\n",
              "      <td>23</td>\n",
              "      <td>94</td>\n",
              "      <td>28.1</td>\n",
              "      <td>0.167</td>\n",
              "      <td>21</td>\n",
              "      <td>0</td>\n",
              "    </tr>\n",
              "    <tr>\n",
              "      <th>4</th>\n",
              "      <td>0</td>\n",
              "      <td>137</td>\n",
              "      <td>40</td>\n",
              "      <td>35</td>\n",
              "      <td>168</td>\n",
              "      <td>43.1</td>\n",
              "      <td>2.288</td>\n",
              "      <td>33</td>\n",
              "      <td>1</td>\n",
              "    </tr>\n",
              "  </tbody>\n",
              "</table>\n",
              "</div>"
            ],
            "text/plain": [
              "   Pregnancies  Glucose  BloodPressure  ...  DiabetesPedigreeFunction  Age  Outcome\n",
              "0            6      148             72  ...                     0.627   50        1\n",
              "1            1       85             66  ...                     0.351   31        0\n",
              "2            8      183             64  ...                     0.672   32        1\n",
              "3            1       89             66  ...                     0.167   21        0\n",
              "4            0      137             40  ...                     2.288   33        1\n",
              "\n",
              "[5 rows x 9 columns]"
            ]
          },
          "metadata": {},
          "execution_count": 1
        }
      ]
    },
    {
      "cell_type": "code",
      "metadata": {
        "id": "jX4h2-iiToR8"
      },
      "source": [
        "import numpy as np\n",
        "\n",
        "df.SkinThickness.replace(0,np.mean(df['SkinThickness']),inplace=True)\n",
        "df.Insulin.replace(0,np.mean(df['Insulin']),inplace=True)"
      ],
      "execution_count": 4,
      "outputs": []
    },
    {
      "cell_type": "code",
      "metadata": {
        "id": "XBuTztABUPlb"
      },
      "source": [
        "df.Glucose.replace(0,np.mean(df['Glucose']),inplace=True)\n",
        "df.BloodPressure.replace(0,np.mean(df['BloodPressure']),inplace=True)\n",
        "df.BMI.replace(0,np.mean(df['BMI']),inplace=True)"
      ],
      "execution_count": 5,
      "outputs": []
    },
    {
      "cell_type": "code",
      "metadata": {
        "colab": {
          "base_uri": "https://localhost:8080/",
          "height": 206
        },
        "id": "aljMgMLuU4qd",
        "outputId": "904e956b-1b85-4ee0-cd46-d4576ab0438b"
      },
      "source": [
        "df.head()"
      ],
      "execution_count": 6,
      "outputs": [
        {
          "output_type": "execute_result",
          "data": {
            "text/html": [
              "<div>\n",
              "<style scoped>\n",
              "    .dataframe tbody tr th:only-of-type {\n",
              "        vertical-align: middle;\n",
              "    }\n",
              "\n",
              "    .dataframe tbody tr th {\n",
              "        vertical-align: top;\n",
              "    }\n",
              "\n",
              "    .dataframe thead th {\n",
              "        text-align: right;\n",
              "    }\n",
              "</style>\n",
              "<table border=\"1\" class=\"dataframe\">\n",
              "  <thead>\n",
              "    <tr style=\"text-align: right;\">\n",
              "      <th></th>\n",
              "      <th>Pregnancies</th>\n",
              "      <th>Glucose</th>\n",
              "      <th>BloodPressure</th>\n",
              "      <th>SkinThickness</th>\n",
              "      <th>Insulin</th>\n",
              "      <th>BMI</th>\n",
              "      <th>DiabetesPedigreeFunction</th>\n",
              "      <th>Age</th>\n",
              "      <th>Outcome</th>\n",
              "    </tr>\n",
              "  </thead>\n",
              "  <tbody>\n",
              "    <tr>\n",
              "      <th>0</th>\n",
              "      <td>6</td>\n",
              "      <td>148.0</td>\n",
              "      <td>72.0</td>\n",
              "      <td>35.000000</td>\n",
              "      <td>79.799479</td>\n",
              "      <td>33.6</td>\n",
              "      <td>0.627</td>\n",
              "      <td>50</td>\n",
              "      <td>1</td>\n",
              "    </tr>\n",
              "    <tr>\n",
              "      <th>1</th>\n",
              "      <td>1</td>\n",
              "      <td>85.0</td>\n",
              "      <td>66.0</td>\n",
              "      <td>29.000000</td>\n",
              "      <td>79.799479</td>\n",
              "      <td>26.6</td>\n",
              "      <td>0.351</td>\n",
              "      <td>31</td>\n",
              "      <td>0</td>\n",
              "    </tr>\n",
              "    <tr>\n",
              "      <th>2</th>\n",
              "      <td>8</td>\n",
              "      <td>183.0</td>\n",
              "      <td>64.0</td>\n",
              "      <td>20.536458</td>\n",
              "      <td>79.799479</td>\n",
              "      <td>23.3</td>\n",
              "      <td>0.672</td>\n",
              "      <td>32</td>\n",
              "      <td>1</td>\n",
              "    </tr>\n",
              "    <tr>\n",
              "      <th>3</th>\n",
              "      <td>1</td>\n",
              "      <td>89.0</td>\n",
              "      <td>66.0</td>\n",
              "      <td>23.000000</td>\n",
              "      <td>94.000000</td>\n",
              "      <td>28.1</td>\n",
              "      <td>0.167</td>\n",
              "      <td>21</td>\n",
              "      <td>0</td>\n",
              "    </tr>\n",
              "    <tr>\n",
              "      <th>4</th>\n",
              "      <td>0</td>\n",
              "      <td>137.0</td>\n",
              "      <td>40.0</td>\n",
              "      <td>35.000000</td>\n",
              "      <td>168.000000</td>\n",
              "      <td>43.1</td>\n",
              "      <td>2.288</td>\n",
              "      <td>33</td>\n",
              "      <td>1</td>\n",
              "    </tr>\n",
              "  </tbody>\n",
              "</table>\n",
              "</div>"
            ],
            "text/plain": [
              "   Pregnancies  Glucose  BloodPressure  ...  DiabetesPedigreeFunction  Age  Outcome\n",
              "0            6    148.0           72.0  ...                     0.627   50        1\n",
              "1            1     85.0           66.0  ...                     0.351   31        0\n",
              "2            8    183.0           64.0  ...                     0.672   32        1\n",
              "3            1     89.0           66.0  ...                     0.167   21        0\n",
              "4            0    137.0           40.0  ...                     2.288   33        1\n",
              "\n",
              "[5 rows x 9 columns]"
            ]
          },
          "metadata": {},
          "execution_count": 6
        }
      ]
    },
    {
      "cell_type": "code",
      "metadata": {
        "colab": {
          "base_uri": "https://localhost:8080/"
        },
        "id": "c220yk-LU6ws",
        "outputId": "d6a6542a-3506-4bcd-e774-7e9857488dff"
      },
      "source": [
        "from sklearn.model_selection import train_test_split\n",
        "from sklearn.ensemble import RandomForestClassifier\n",
        "from sklearn.metrics import accuracy_score, precision_score, recall_score, f1_score, confusion_matrix, roc_auc_score\n",
        "\n",
        "X = df.drop('Outcome',axis=1)\n",
        "y = df['Outcome']\n",
        "\n",
        "X_train, X_test, y_train, y_test = train_test_split(X,y, test_size=0.2, random_state=121)\n",
        "\n",
        "rf_clf = RandomForestClassifier()\n",
        "rf_clf.fit(X_train, y_train)\n",
        "y_pred = rf_clf.predict(X_test)\n",
        "pred_proba = rf_clf.predict_proba(X_test)[:,1]\n",
        "\n",
        "accuracy_score(y_test, y_pred)"
      ],
      "execution_count": 8,
      "outputs": [
        {
          "output_type": "execute_result",
          "data": {
            "text/plain": [
              "0.8246753246753247"
            ]
          },
          "metadata": {},
          "execution_count": 8
        }
      ]
    },
    {
      "cell_type": "code",
      "metadata": {
        "colab": {
          "base_uri": "https://localhost:8080/"
        },
        "id": "ex7N8Bs_Vm_B",
        "outputId": "98f7758d-f228-4b58-c3b2-848ea58892f9"
      },
      "source": [
        "def get_eval(y_test, pred, pred_proba):\n",
        "  confusion = confusion_matrix(y_test, pred)\n",
        "  accuracy = accuracy_score(y_test, pred)\n",
        "  precision = precision_score(y_test, pred)\n",
        "  recall = recall_score(y_test, pred)\n",
        "  f1 = f1_score(y_test, pred)\n",
        "  auc = roc_auc_score(y_test, pred_proba)\n",
        "  print('오차행렬')\n",
        "  print(confusion)\n",
        "  print(f'정확도:{accuracy:.4f}, 정밀도:{precision:.4f}, 재현률:{recall:.4f}, F1:{f1:.4f}, AUC:{auc:.4f}')\n",
        "    \n",
        "get_eval(y_test,y_pred, pred_proba)"
      ],
      "execution_count": 11,
      "outputs": [
        {
          "output_type": "stream",
          "name": "stdout",
          "text": [
            "오차행렬\n",
            "[[93  7]\n",
            " [20 34]]\n",
            "정확도:0.8247, 정밀도:0.8293, 재현률:0.6296, F1:0.7158, AUC:0.9169\n"
          ]
        }
      ]
    },
    {
      "cell_type": "code",
      "metadata": {
        "id": "c2mg5V4SWZaL"
      },
      "source": [
        "from sklearn.metrics import roc_curve\n",
        "fprs, tprs, thresholds = roc_curve(y_test, pred_proba)"
      ],
      "execution_count": 13,
      "outputs": []
    },
    {
      "cell_type": "code",
      "metadata": {
        "colab": {
          "base_uri": "https://localhost:8080/",
          "height": 283
        },
        "id": "Rbzjv9sVWoM0",
        "outputId": "29bab846-4046-4ba0-bae2-398ee0d399b4"
      },
      "source": [
        "import matplotlib.pyplot as plt\n",
        "\n",
        "def roc_curve_plot(y_test, pred_proba):\n",
        "  fprs, tprs, thresholds = roc_curve(y_test, pred_proba)\n",
        "  plt.plot(fprs, tprs, label = 'ROC')\n",
        "  plt.plot([0,1],[0,1], 'r:', label='Random')\n",
        "\n",
        "  start, end = plt.xlim()\n",
        "  plt.xticks(np.round(np.arange(start, end, 0.1),2))\n",
        "  plt.xlim(0,1)\n",
        "  plt.ylim(0,1)\n",
        "  plt.xlabel('FPR(1-spectificity')\n",
        "  plt.ylabel('TPR(Recall')\n",
        "  plt.legend()\n",
        "  plt.show()\n",
        "\n",
        "roc_curve_plot(y_test, pred_proba)"
      ],
      "execution_count": 15,
      "outputs": [
        {
          "output_type": "display_data",
          "data": {
            "image/png": "[encoded data removed]",
            "text/plain": [
              "<Figure size 432x288 with 1 Axes>"
            ]
          },
          "metadata": {
            "needs_background": "light"
          }
        }
      ]
    },
    {
      "cell_type": "code",
      "metadata": {
        "colab": {
          "base_uri": "https://localhost:8080/",
          "height": 388
        },
        "id": "H2bCdvgJXxA7",
        "outputId": "dc8fe876-435f-4ae9-d0e2-01e13c94644a"
      },
      "source": [
        "from sklearn.metrics import precision_recall_curve\n",
        "import matplotlib.ticker as ticker\n",
        "\n",
        "pred_proba_c1 = rf_clf.predict_proba(X_test)[:,1]\n",
        "def precision_recall_curve_plot(y_test, pred_proba_c1):\n",
        "  precisions, recalls, thresholds = precision_recall_curve(y_test, pred_proba_c1)\n",
        "\n",
        "  plt.figure(figsize=(8,6))\n",
        "  threshold_boundary = thresholds.shape[0]\n",
        "  plt.plot(thresholds, precisions[0:threshold_boundary], linestyle='--', label='precision')\n",
        "  plt.plot(thresholds, recalls[0:threshold_boundary], label='recall')\n",
        "\n",
        "  start, end = plt.xlim()\n",
        "  plt.xticks(np.round(np.arange(start, end, 0.1),2))\n",
        "\n",
        "  plt.xlabel('Threshold value')\n",
        "  plt.ylabel('Precision and Recall value')\n",
        "  plt.legend()\n",
        "  plt.grid()\n",
        "  plt.show()\n",
        "\n",
        "precision_recall_curve_plot(y_test, pred_proba_c1)"
      ],
      "execution_count": 17,
      "outputs": [
        {
          "output_type": "display_data",
          "data": {
            "image/png": "[encoded data removed]",
            "text/plain": [
              "<Figure size 576x432 with 1 Axes>"
            ]
          },
          "metadata": {
            "needs_background": "light"
          }
        }
      ]
    },
    {
      "cell_type": "code",
      "metadata": {
        "colab": {
          "base_uri": "https://localhost:8080/"
        },
        "id": "elEVAU7WZRtH",
        "outputId": "e4a67895-826d-4c03-bc0e-407d5ad5a57a"
      },
      "source": [
        "from sklearn.preprocessing import Binarizer\n",
        "\n",
        "thresholds = np.arange(0.35, 0.51, 0.01)\n",
        "\n",
        "def get_eval_by_thresholds(y_test, pred_proba_c1, thresholds):\n",
        "  for i in thresholds:\n",
        "    binarizer = Binarizer(threshold = i).fit(pred_proba_c1)\n",
        "    custom_predict = binarizer.transform(pred_proba_c1)\n",
        "    print('임계값',i)\n",
        "    get_eval(y_test, custom_predict, pred_proba)\n",
        "    print()\n",
        "\n",
        "get_eval_by_thresholds(y_test, pred_proba_c1.reshape(-1,1),thresholds)"
      ],
      "execution_count": 24,
      "outputs": [
        {
          "output_type": "stream",
          "name": "stdout",
          "text": [
            "임계값 0.35\n",
            "오차행렬\n",
            "[[84 16]\n",
            " [ 8 46]]\n",
            "정확도:0.8442, 정밀도:0.7419, 재현률:0.8519, F1:0.7931, AUC:0.9169\n",
            "\n",
            "임계값 0.36\n",
            "오차행렬\n",
            "[[84 16]\n",
            " [ 8 46]]\n",
            "정확도:0.8442, 정밀도:0.7419, 재현률:0.8519, F1:0.7931, AUC:0.9169\n",
            "\n",
            "임계값 0.37\n",
            "오차행렬\n",
            "[[84 16]\n",
            " [ 8 46]]\n",
            "정확도:0.8442, 정밀도:0.7419, 재현률:0.8519, F1:0.7931, AUC:0.9169\n",
            "\n",
            "임계값 0.38\n",
            "오차행렬\n",
            "[[85 15]\n",
            " [ 8 46]]\n",
            "정확도:0.8506, 정밀도:0.7541, 재현률:0.8519, F1:0.8000, AUC:0.9169\n",
            "\n",
            "임계값 0.39\n",
            "오차행렬\n",
            "[[86 14]\n",
            " [ 8 46]]\n",
            "정확도:0.8571, 정밀도:0.7667, 재현률:0.8519, F1:0.8070, AUC:0.9169\n",
            "\n",
            "임계값 0.4\n",
            "오차행렬\n",
            "[[87 13]\n",
            " [ 9 45]]\n",
            "정확도:0.8571, 정밀도:0.7759, 재현률:0.8333, F1:0.8036, AUC:0.9169\n",
            "\n",
            "임계값 0.41000000000000003\n",
            "오차행렬\n",
            "[[88 12]\n",
            " [ 9 45]]\n",
            "정확도:0.8636, 정밀도:0.7895, 재현률:0.8333, F1:0.8108, AUC:0.9169\n",
            "\n",
            "임계값 0.42000000000000004\n",
            "오차행렬\n",
            "[[89 11]\n",
            " [10 44]]\n",
            "정확도:0.8636, 정밀도:0.8000, 재현률:0.8148, F1:0.8073, AUC:0.9169\n",
            "\n",
            "임계값 0.43000000000000005\n",
            "오차행렬\n",
            "[[89 11]\n",
            " [11 43]]\n",
            "정확도:0.8571, 정밀도:0.7963, 재현률:0.7963, F1:0.7963, AUC:0.9169\n",
            "\n",
            "임계값 0.44000000000000006\n",
            "오차행렬\n",
            "[[89 11]\n",
            " [14 40]]\n",
            "정확도:0.8377, 정밀도:0.7843, 재현률:0.7407, F1:0.7619, AUC:0.9169\n",
            "\n",
            "임계값 0.45000000000000007\n",
            "오차행렬\n",
            "[[89 11]\n",
            " [16 38]]\n",
            "정확도:0.8247, 정밀도:0.7755, 재현률:0.7037, F1:0.7379, AUC:0.9169\n",
            "\n",
            "임계값 0.4600000000000001\n",
            "오차행렬\n",
            "[[89 11]\n",
            " [17 37]]\n",
            "정확도:0.8182, 정밀도:0.7708, 재현률:0.6852, F1:0.7255, AUC:0.9169\n",
            "\n",
            "임계값 0.4700000000000001\n",
            "오차행렬\n",
            "[[90 10]\n",
            " [19 35]]\n",
            "정확도:0.8117, 정밀도:0.7778, 재현률:0.6481, F1:0.7071, AUC:0.9169\n",
            "\n",
            "임계값 0.4800000000000001\n",
            "오차행렬\n",
            "[[91  9]\n",
            " [19 35]]\n",
            "정확도:0.8182, 정밀도:0.7955, 재현률:0.6481, F1:0.7143, AUC:0.9169\n",
            "\n",
            "임계값 0.4900000000000001\n",
            "오차행렬\n",
            "[[91  9]\n",
            " [20 34]]\n",
            "정확도:0.8117, 정밀도:0.7907, 재현률:0.6296, F1:0.7010, AUC:0.9169\n",
            "\n",
            "임계값 0.5000000000000001\n",
            "오차행렬\n",
            "[[93  7]\n",
            " [20 34]]\n",
            "정확도:0.8247, 정밀도:0.8293, 재현률:0.6296, F1:0.7158, AUC:0.9169\n",
            "\n",
            "임계값 0.5100000000000001\n",
            "오차행렬\n",
            "[[94  6]\n",
            " [20 34]]\n",
            "정확도:0.8312, 정밀도:0.8500, 재현률:0.6296, F1:0.7234, AUC:0.9169\n",
            "\n"
          ]
        }
      ]
    }
  ]
}