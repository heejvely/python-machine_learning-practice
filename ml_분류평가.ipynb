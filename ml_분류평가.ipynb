{
  "nbformat": 4,
  "nbformat_minor": 0,
  "metadata": {
    "colab": {
      "name": "ml_분류평가.ipynb",
      "provenance": [],
      "machine_shape": "hm",
      "mount_file_id": "14D1MSZQxcUmrwv325qaaetT3KVQevwD8",
      "authorship_tag": "ABX9TyPotrVfUVEGcQnY/W/YmMna",
      "include_colab_link": true
    },
    "kernelspec": {
      "name": "python3",
      "display_name": "Python 3"
    },
    "language_info": {
      "name": "python"
    },
    "accelerator": "GPU"
  },
  "cells": [
    {
      "cell_type": "markdown",
      "metadata": {
        "id": "view-in-github",
        "colab_type": "text"
      },
      "source": [
        "<a href=\"https://colab.research.google.com/github/heejvely/python-practice/blob/main/ml_%EB%B6%84%EB%A5%98%ED%8F%89%EA%B0%80.ipynb\" target=\"_parent\"><img src=\"https://colab.research.google.com/assets/colab-badge.svg\" alt=\"Open In Colab\"/></a>"
      ]
    },
    {
      "cell_type": "code",
      "metadata": {
        "colab": {
          "base_uri": "https://localhost:8080/",
          "height": 504
        },
        "id": "PRcMm9EDAvBa",
        "outputId": "edce4b11-6507-4572-ee9f-0b3ead353b91"
      },
      "source": [
        "import numpy as np\n",
        "import pandas as pd\n",
        "from sklearn.model_selection import train_test_split\n",
        "from sklearn.linear_model import LogisticRegression\n",
        "from sklearn.metrics import accuracy_score\n",
        "import warnings\n",
        "warnings.filterwarnings('ignore')\n",
        "\n",
        "titanic_df = pd.read_csv('/content/drive/MyDrive/빅분기연습/dataset/train.csv')\n",
        "titanic_df.head()"
      ],
      "execution_count": 1,
      "outputs": [
        {
          "output_type": "execute_result",
          "data": {
            "text/html": [
              "<div>\n",
              "<style scoped>\n",
              "    .dataframe tbody tr th:only-of-type {\n",
              "        vertical-align: middle;\n",
              "    }\n",
              "\n",
              "    .dataframe tbody tr th {\n",
              "        vertical-align: top;\n",
              "    }\n",
              "\n",
              "    .dataframe thead th {\n",
              "        text-align: right;\n",
              "    }\n",
              "</style>\n",
              "<table border=\"1\" class=\"dataframe\">\n",
              "  <thead>\n",
              "    <tr style=\"text-align: right;\">\n",
              "      <th></th>\n",
              "      <th>PassengerId</th>\n",
              "      <th>Survived</th>\n",
              "      <th>Pclass</th>\n",
              "      <th>Name</th>\n",
              "      <th>Sex</th>\n",
              "      <th>Age</th>\n",
              "      <th>SibSp</th>\n",
              "      <th>Parch</th>\n",
              "      <th>Ticket</th>\n",
              "      <th>Fare</th>\n",
              "      <th>Cabin</th>\n",
              "      <th>Embarked</th>\n",
              "    </tr>\n",
              "  </thead>\n",
              "  <tbody>\n",
              "    <tr>\n",
              "      <th>0</th>\n",
              "      <td>1</td>\n",
              "      <td>0</td>\n",
              "      <td>3</td>\n",
              "      <td>Braund, Mr. Owen Harris</td>\n",
              "      <td>male</td>\n",
              "      <td>22.0</td>\n",
              "      <td>1</td>\n",
              "      <td>0</td>\n",
              "      <td>A/5 21171</td>\n",
              "      <td>7.2500</td>\n",
              "      <td>NaN</td>\n",
              "      <td>S</td>\n",
              "    </tr>\n",
              "    <tr>\n",
              "      <th>1</th>\n",
              "      <td>2</td>\n",
              "      <td>1</td>\n",
              "      <td>1</td>\n",
              "      <td>Cumings, Mrs. John Bradley (Florence Briggs Th...</td>\n",
              "      <td>female</td>\n",
              "      <td>38.0</td>\n",
              "      <td>1</td>\n",
              "      <td>0</td>\n",
              "      <td>PC 17599</td>\n",
              "      <td>71.2833</td>\n",
              "      <td>C85</td>\n",
              "      <td>C</td>\n",
              "    </tr>\n",
              "    <tr>\n",
              "      <th>2</th>\n",
              "      <td>3</td>\n",
              "      <td>1</td>\n",
              "      <td>3</td>\n",
              "      <td>Heikkinen, Miss. Laina</td>\n",
              "      <td>female</td>\n",
              "      <td>26.0</td>\n",
              "      <td>0</td>\n",
              "      <td>0</td>\n",
              "      <td>STON/O2. 3101282</td>\n",
              "      <td>7.9250</td>\n",
              "      <td>NaN</td>\n",
              "      <td>S</td>\n",
              "    </tr>\n",
              "    <tr>\n",
              "      <th>3</th>\n",
              "      <td>4</td>\n",
              "      <td>1</td>\n",
              "      <td>1</td>\n",
              "      <td>Futrelle, Mrs. Jacques Heath (Lily May Peel)</td>\n",
              "      <td>female</td>\n",
              "      <td>35.0</td>\n",
              "      <td>1</td>\n",
              "      <td>0</td>\n",
              "      <td>113803</td>\n",
              "      <td>53.1000</td>\n",
              "      <td>C123</td>\n",
              "      <td>S</td>\n",
              "    </tr>\n",
              "    <tr>\n",
              "      <th>4</th>\n",
              "      <td>5</td>\n",
              "      <td>0</td>\n",
              "      <td>3</td>\n",
              "      <td>Allen, Mr. William Henry</td>\n",
              "      <td>male</td>\n",
              "      <td>35.0</td>\n",
              "      <td>0</td>\n",
              "      <td>0</td>\n",
              "      <td>373450</td>\n",
              "      <td>8.0500</td>\n",
              "      <td>NaN</td>\n",
              "      <td>S</td>\n",
              "    </tr>\n",
              "  </tbody>\n",
              "</table>\n",
              "</div>"
            ],
            "text/plain": [
              "   PassengerId  Survived  Pclass  ...     Fare Cabin  Embarked\n",
              "0            1         0       3  ...   7.2500   NaN         S\n",
              "1            2         1       1  ...  71.2833   C85         C\n",
              "2            3         1       3  ...   7.9250   NaN         S\n",
              "3            4         1       1  ...  53.1000  C123         S\n",
              "4            5         0       3  ...   8.0500   NaN         S\n",
              "\n",
              "[5 rows x 12 columns]"
            ]
          },
          "metadata": {},
          "execution_count": 1
        }
      ]
    },
    {
      "cell_type": "code",
      "metadata": {
        "id": "jhy_NXaMCNxo"
      },
      "source": [
        "# 일괄 전처리 사용자 함수(null 처리, 불필요 칼럼 삭제, 레이블 인코딩)\n",
        "import pandas as pd\n",
        "from sklearn.preprocessing import LabelEncoder\n",
        "\n",
        "# Null 처리 함수\n",
        "# Age(평균), Cabin('N'), Embarked('N'), Fare(0)\n",
        "def fillna(df):\n",
        "  df['Age'].fillna(df['Age'].mean(), inplace=True)\n",
        "  df['Cabin'].fillna('N', inplace=True)\n",
        "  df['Embarked'].fillna('N', inplace=True)\n",
        "  df['Fare'].fillna(0, inplace=True)\n",
        "  return df\n",
        "\n",
        "# 머신러닝 알고리즘에 불필요한 속성 제거\n",
        "# PassengerId, Name, Ticket(티켓번호)\n",
        "def drop_features(df):\n",
        "  df.drop(['PassengerId','Name','Ticket'],axis=1, inplace=True)\n",
        "  return df\n",
        "\n",
        "# 레이블 인코딩 수행\n",
        "# Cabin(선실번호 첫문자만 추출 후 인코딩), Sex(성별), Embarked(중간 정착 항구)\n",
        "def format_features(df):\n",
        "  df['Cabin'] = df['Cabin'].str[:1]\n",
        "  features = ['Cabin', 'Sex','Embarked']\n",
        "  for feature in features:\n",
        "    le = LabelEncoder()\n",
        "    le = le.fit(df[feature])\n",
        "    df[feature] = le.transform(df[feature])\n",
        "  return df\n",
        "\n",
        "# 앞에서 설정한 Data Preprocessing 함수 호출\n",
        "def transform_features(df):\n",
        "  df = fillna(df)\n",
        "  df = drop_features(df)\n",
        "  df = format_features(df)\n",
        "  return df"
      ],
      "execution_count": 2,
      "outputs": []
    },
    {
      "cell_type": "code",
      "metadata": {
        "colab": {
          "base_uri": "https://localhost:8080/"
        },
        "id": "IM76QcXTCw8x",
        "outputId": "17e751ba-c77d-485e-9b16-37044fee5719"
      },
      "source": [
        "\n",
        "y_titanic_df = titanic_df['Survived']\n",
        "X_titanic_df = titanic_df.drop('Survived',axis=1)\n",
        "X_titanic_df = transform_features(X_titanic_df)\n",
        "\n",
        "X_train, X_test, y_train, y_test = train_test_split(X_titanic_df, y_titanic_df,\n",
        "                                                    test_size = 0.2, random_state=11)\n",
        "lr_clf = LogisticRegression()\n",
        "lr_clf.fit(X_train, y_train)\n",
        "pred = lr_clf.predict(X_test)\n",
        "accuracy_lr = accuracy_score(y_test, pred)\n",
        "accuracy_lr"
      ],
      "execution_count": 3,
      "outputs": [
        {
          "output_type": "execute_result",
          "data": {
            "text/plain": [
              "0.8491620111731844"
            ]
          },
          "metadata": {},
          "execution_count": 3
        }
      ]
    },
    {
      "cell_type": "code",
      "metadata": {
        "colab": {
          "base_uri": "https://localhost:8080/"
        },
        "id": "z1GkRTlHFMEp",
        "outputId": "08dd882e-786b-465e-de28-11efa0415c3a"
      },
      "source": [
        "pred_proba = lr_clf.predict_proba(X_test)\n",
        "pred = lr_clf.predict(X_test)\n",
        "\n",
        "print(pred_proba[:3])\n",
        "print()\n",
        "print(pred.reshape(-1,1)[:3])"
      ],
      "execution_count": 4,
      "outputs": [
        {
          "output_type": "stream",
          "name": "stdout",
          "text": [
            "[[0.46191519 0.53808481]\n",
            " [0.878675   0.121325  ]\n",
            " [0.87716185 0.12283815]]\n",
            "\n",
            "[[1]\n",
            " [0]\n",
            " [0]]\n"
          ]
        }
      ]
    },
    {
      "cell_type": "code",
      "metadata": {
        "colab": {
          "base_uri": "https://localhost:8080/"
        },
        "id": "VCqDK5-TFmO5",
        "outputId": "d9710acc-ce6c-4856-bf40-271cca699deb"
      },
      "source": [
        "from sklearn.preprocessing import Binarizer\n",
        "\n",
        "X = [[1,-1,2],\n",
        "    [2,0,0],\n",
        "    [0,1.1,1.2]]\n",
        "# Binarizer(threshold=  ) : threshold 기준값 보다 같거나 작으면 0, 크면 1을 반환\n",
        "\n",
        "binarizer = Binarizer(threshold=1.1)\n",
        "print(binarizer.fit_transform(X))"
      ],
      "execution_count": 5,
      "outputs": [
        {
          "output_type": "stream",
          "name": "stdout",
          "text": [
            "[[0. 0. 1.]\n",
            " [1. 0. 0.]\n",
            " [0. 0. 1.]]\n"
          ]
        }
      ]
    },
    {
      "cell_type": "code",
      "metadata": {
        "colab": {
          "base_uri": "https://localhost:8080/"
        },
        "id": "inUfRbulF0by",
        "outputId": "2755852e-6592-42ea-d7ea-87d7c1d8de0d"
      },
      "source": [
        "custom_threshold = 0.5\n",
        "print('pred_proba: \\n', pred_proba[:5])\n",
        "print()\n",
        "\n",
        "# 생존 확률 추출 후 2차원 배열로 변환\n",
        "pred_proba_1 = pred_proba[:,1].reshape(-1,1)\n",
        "print('생존확률: \\n', pred_proba_1[:5])\n",
        "print()\n",
        "\n",
        "binarizer = Binarizer(threshold=custom_threshold).fit(pred_proba_1)\n",
        "custom_predict = binarizer.transform(pred_proba_1)\n",
        "custom_predict[:5]"
      ],
      "execution_count": 6,
      "outputs": [
        {
          "output_type": "stream",
          "name": "stdout",
          "text": [
            "pred_proba: \n",
            " [[0.46191519 0.53808481]\n",
            " [0.878675   0.121325  ]\n",
            " [0.87716185 0.12283815]\n",
            " [0.88263183 0.11736817]\n",
            " [0.85515178 0.14484822]]\n",
            "\n",
            "생존확률: \n",
            " [[0.53808481]\n",
            " [0.121325  ]\n",
            " [0.12283815]\n",
            " [0.11736817]\n",
            " [0.14484822]]\n",
            "\n"
          ]
        },
        {
          "output_type": "execute_result",
          "data": {
            "text/plain": [
              "array([[1.],\n",
              "       [0.],\n",
              "       [0.],\n",
              "       [0.],\n",
              "       [0.]])"
            ]
          },
          "metadata": {},
          "execution_count": 6
        }
      ]
    },
    {
      "cell_type": "code",
      "metadata": {
        "colab": {
          "base_uri": "https://localhost:8080/"
        },
        "id": "i8Pey6rXGvMO",
        "outputId": "ee98ef03-5f24-4f2e-a696-86b3e59903b6"
      },
      "source": [
        "# get_clf_eval 평가 사용자 정의 함수\n",
        "from sklearn.metrics import accuracy_score, precision_score, recall_score, f1_score, confusion_matrix\n",
        "\n",
        "def get_clf_eval(y_test,pred):\n",
        "  confusion = confusion_matrix(y_test, pred)\n",
        "  accuracy = accuracy_score(y_test, pred)\n",
        "  precision = precision_score(y_test, pred)\n",
        "  recall = recall_score(y_test, pred)\n",
        "  f1 = f1_score(y_test, pred)\n",
        "  print('오차 행렬')\n",
        "  print(confusion)\n",
        "  print(f'정확도:{accuracy:.4f}, 정밀도:{precision:.4f}, 재현율:{recall:.4f}, F1:{f1:.4f}')\n",
        "\n",
        "get_clf_eval(y_test, custom_predict)"
      ],
      "execution_count": 9,
      "outputs": [
        {
          "output_type": "stream",
          "name": "stdout",
          "text": [
            "오차 행렬\n",
            "[[104  14]\n",
            " [ 13  48]]\n",
            "정확도:0.8492, 정밀도:0.7742, 재현율:0.7869, F1:0.7805\n"
          ]
        }
      ]
    },
    {
      "cell_type": "code",
      "metadata": {
        "colab": {
          "base_uri": "https://localhost:8080/"
        },
        "id": "rtibq8TiHi8v",
        "outputId": "ea480f38-fa31-4da7-f51a-27331ebe4b41"
      },
      "source": [
        "# 정확도 = (TP + TN) / ( TP + TN + FP + FN)\n",
        "# 정밀도 = TP / ( TP + FP)\n",
        "# 재현율 = TP / ( TP + FN)\n",
        "# F1 = 2 * ( 정밀도 * 재현율) / (정밀도 + 재현율)\n",
        "\n",
        "print('정확도:', (48 + 104) / (104 + 14+ 13 + 48))\n",
        "print('정밀도:', 48 / (14 + 48))\n",
        "print('재현율:', 48 / (13 + 48))\n",
        "print('f1:', 2 * (48 / (14 + 48))*(48 / (13 + 48))/((48 / (14 + 48))+(48 / (13 + 48))))"
      ],
      "execution_count": 10,
      "outputs": [
        {
          "output_type": "stream",
          "name": "stdout",
          "text": [
            "정확도: 0.8491620111731844\n",
            "정밀도: 0.7741935483870968\n",
            "재현율: 0.7868852459016393\n",
            "f1: 0.7804878048780488\n"
          ]
        }
      ]
    },
    {
      "cell_type": "code",
      "metadata": {
        "colab": {
          "base_uri": "https://localhost:8080/"
        },
        "id": "DwjYjlo0H2BV",
        "outputId": "34c85069-77a8-4408-b9a1-023027c8bdd9"
      },
      "source": [
        "# 임계값이 커지면 양성 예측이 적어지므로 FP가 적어지고 정밀도가 증가한다.\n",
        "# 정밀도와 재현율은 Trade-off 관계로 정밀도가 증가하면 재현율은 감소한다\n",
        "thresholds = [0.4,0.45,0.50,0.55,0.60]\n",
        "\n",
        "def get_eval_by_threshold(y_test, pred_proba_c1, thresholds):\n",
        "  # thresholds list 객체내의 값을 차례로 itation하면서 evaluation 수행\n",
        "  for custom_threshold in thresholds:\n",
        "    binarizer = Binarizer(threshold=custom_threshold).fit(pred_proba_c1)\n",
        "    custom_predict = binarizer.transform(pred_proba_c1)\n",
        "    print('임계값', custom_threshold)\n",
        "    get_clf_eval(y_test, custom_predict)\n",
        "    print()\n",
        "get_eval_by_threshold(y_test, pred_proba[:,1].reshape(-1,1),thresholds)"
      ],
      "execution_count": 11,
      "outputs": [
        {
          "output_type": "stream",
          "name": "stdout",
          "text": [
            "임계값 0.4\n",
            "오차 행렬\n",
            "[[98 20]\n",
            " [10 51]]\n",
            "정확도:0.8324, 정밀도:0.7183, 재현율:0.8361, F1:0.7727\n",
            "\n",
            "임계값 0.45\n",
            "오차 행렬\n",
            "[[103  15]\n",
            " [ 12  49]]\n",
            "정확도:0.8492, 정밀도:0.7656, 재현율:0.8033, F1:0.7840\n",
            "\n",
            "임계값 0.5\n",
            "오차 행렬\n",
            "[[104  14]\n",
            " [ 13  48]]\n",
            "정확도:0.8492, 정밀도:0.7742, 재현율:0.7869, F1:0.7805\n",
            "\n",
            "임계값 0.55\n",
            "오차 행렬\n",
            "[[109   9]\n",
            " [ 15  46]]\n",
            "정확도:0.8659, 정밀도:0.8364, 재현율:0.7541, F1:0.7931\n",
            "\n",
            "임계값 0.6\n",
            "오차 행렬\n",
            "[[112   6]\n",
            " [ 16  45]]\n",
            "정확도:0.8771, 정밀도:0.8824, 재현율:0.7377, F1:0.8036\n",
            "\n"
          ]
        }
      ]
    },
    {
      "cell_type": "code",
      "metadata": {
        "colab": {
          "base_uri": "https://localhost:8080/"
        },
        "id": "3t__gn6FI1Y1",
        "outputId": "69284117-6057-455e-85e9-174ae321a62f"
      },
      "source": [
        "# 임곗값 변화에 따른 평가 지표 값 : 사이킷런 precision_recall_curve() API\n",
        "# precision_recall_curve()는 일반적으로 0.10~0.97 정도의 임곗값을 갖는 넘파이 ndarray와\n",
        "# 이 임곗값에 해당하는 정밀도 및 재현율 값을 담은 넘파이 ndarray를 반환\n",
        "\n",
        "from sklearn.metrics import precision_recall_curve\n",
        "\n",
        "# 레이블 값이 1일 때의 예측 확률을 추출\n",
        "pred_proba_class1 = lr_clf.predict_proba(X_test)[:,1]\n",
        "\n",
        "# 실제값 데이터 셋과 레이블 값이 1일 때의 예측 확률을 precision_recall_curve 인자로 입력\n",
        "precisions, recalls, thresholds = precision_recall_curve(y_test, pred_proba_class1)\n",
        "print('반환된 분류 결정 임계값 배열의 Shape:', thresholds.shape)\n",
        "\n",
        "# 반환된 임계값 배열 로우가 147건이므로 샘플로 10건만 추출하되, 임계값을 15step으로 추출\n",
        "thr_index = np.arange(0, thresholds.shape[0], 15)\n",
        "print('샘플 추출을 위한 임계앖 배열의 index 10개:', thr_index)\n",
        "print('샘플용 10개의 임계값:', np.round(thresholds[thr_index], 2))\n",
        "\n",
        "# 15 step 단위로 추출된 임계값에 따른 정밀도와 재현률 값\n",
        "# 임계값이 증가할 수록 Positive 예측은 감소, FP 감소, 정밀도 값은 동시에 높아지나 재현률 값은 낮아짐을 확인\n",
        "print('샘플 임계값별 정밀도:', np.round(precisions[thr_index],3))\n",
        "print('샘플 임계값별 재현률:', np.round(recalls[thr_index],3))"
      ],
      "execution_count": 12,
      "outputs": [
        {
          "output_type": "stream",
          "name": "stdout",
          "text": [
            "반환된 분류 결정 임계값 배열의 Shape: (143,)\n",
            "샘플 추출을 위한 임계앖 배열의 index 10개: [  0  15  30  45  60  75  90 105 120 135]\n",
            "샘플용 10개의 임계값: [0.1  0.12 0.14 0.19 0.28 0.4  0.56 0.67 0.82 0.95]\n",
            "샘플 임계값별 정밀도: [0.389 0.44  0.466 0.539 0.647 0.729 0.836 0.949 0.958 1.   ]\n",
            "샘플 임계값별 재현률: [1.    0.967 0.902 0.902 0.902 0.836 0.754 0.607 0.377 0.148]\n"
          ]
        }
      ]
    },
    {
      "cell_type": "code",
      "metadata": {
        "colab": {
          "base_uri": "https://localhost:8080/",
          "height": 388
        },
        "id": "O47wIkm3KM6X",
        "outputId": "7fffb6db-d026-4637-fab6-469ea1804bd1"
      },
      "source": [
        "# precision_recall_curve() API는 정밀도와 재현율의 임곗값에 따른 값 변화를 곡선 형태의 그래프로 \n",
        "# 시각화하는데 이용\n",
        "import matplotlib.pyplot as plt\n",
        "import matplotlib.ticker as ticker\n",
        "%matplotlib inline\n",
        "\n",
        "def precision_recall_curve_plot(y_test, pred_proba_c1):\n",
        "  # threshold ndarray와 이 threshold에 따른 정밀도, 재현률 ndarray 추출\n",
        "  precisions, recalls, thresholds = precision_recall_curve(y_test, pred_proba_c1)\n",
        "\n",
        "  # X축을 threshold 값으로, Y축은 정밀도, 재현률 값으로 각각 Plot 수행. 정밀도는 점선으로 표시\n",
        "  plt.figure(figsize=(8,6))\n",
        "  threshold_boundary = thresholds.shape[0]\n",
        "  plt.plot(thresholds, precisions[0:threshold_boundary], linestyle='--', label='precision')\n",
        "  plt.plot(thresholds, recalls[0:threshold_boundary], label='recall')\n",
        "\n",
        "  # threshold 값 X축의 Scale을 0.1 단위로 변경\n",
        "  start, end = plt.xlim()\n",
        "  plt.xticks(np.round(np.arange(start, end, 0.1),2))\n",
        "\n",
        "  # x축, y축 label과 legend, 그리고 grid 설정\n",
        "  plt.xlabel('Threshold value')\n",
        "  plt.ylabel('Precision and Recall value')\n",
        "  plt.legend()\n",
        "  plt.grid()\n",
        "  plt.show()\n",
        "\n",
        "precision_recall_curve_plot(y_test, lr_clf.predict_proba(X_test)[:,1])"
      ],
      "execution_count": 17,
      "outputs": [
        {
          "output_type": "display_data",
          "data": {
            "image/png": "[encoded data removed]",
            "text/plain": [
              "<Figure size 576x432 with 1 Axes>"
            ]
          },
          "metadata": {
            "needs_background": "light"
          }
        }
      ]
    },
    {
      "cell_type": "markdown",
      "metadata": {
        "id": "AYT2vYHLLqUE"
      },
      "source": [
        "#### 결과 해석\n",
        "* 임계값이 낮을수록 많은 수의 양성 예측으로 인해 재현율 값이 극도로 높아지고 정밀도 값이 낮아짐.(FN이 작아지고 FP가 커짐)\n",
        "* 로지스틱 회귀 기반의 타이타닉 생존자 예측 모델의 경우 임곗값이 약 0.5 지점에서 재현율과 정밀도가 비슷해지는 모습을 보임.\n",
        "* 단순히 하나의 성능 지표 수치를 높이기 위한 수단으로 사용하는 것은 지양하고 업무 환경에 맞게 두 개의 수치를 상호 보완할 수 있는 수준에서 적용\n",
        "\n",
        "#### 정밀도 및 재현율 활용시 유의 사항\n",
        "* 정밀도와 재현율 성능 수치는 어느 한쪽만 참조하면 극단적인 수치 조작이 가능\n",
        "* 정밀도 100%가 되는 방법:\n",
        "  확실한 기준이 되는 경우만 Positive로 예측하고 나머지는 모두 Negative로 예측\n",
        "  전체 환자 1000명중 확실한 Positive 징후만 가진 환자는 단 1명이라고 하면 이 한 명만 P로 예측하고 나머지는 모두 N으로 예측\n",
        "  FP는 0, TP는 1이 되며 정밀도(TP/(TP+FP)는 1/(1+0) = 1\n",
        "* 재현율이 100%가 되는 방법: \n",
        "  모든 환자를 Positive로 예측\n",
        "  1000명의 환자중 실제 양성인 사람이 30명 정도라도 TN이 수치에 포함되지 않고 FN은 0이므로 재현율(TP/(TP+FN)은 30/(30+0) = 1\n",
        "* 분류가 정밀도, 재현율 중 하나에 상대적인 중요도를 부여할 수 있지만 하나만 강조해서는 안됨\n",
        "* 암 예측 모델에서 재현율을 높인다고 주로 양성만 판정한다면 환자의 부담과 불평이 커지게 됨"
      ]
    },
    {
      "cell_type": "markdown",
      "metadata": {
        "id": "xAos_4guLvKM"
      },
      "source": [
        "#### ROC 곡선과 AUC\n",
        "* 수신자 판단 곡선이라고 하며 ML의 이진 분류 모델의 예측 성능을 판단하는 중요한 평가 지표.\n",
        "* FPR이 변할 때 TPR이 어떻게 변하는지를 나타내는 곡선으로 FPR은 1- 특이성(TNR), TPR은 재현율(민감도)를 나타냄.\n",
        "* TNR은 TN/(TN+FP)이며 FPR은 FP/(TN+FP)임\n",
        "* ROC 곡선은 FPR을 0부터 1까지 변경하면서 FPR을 구하고 이 FPR값의 변화에 따른 TPR의 변화 값을 구함.\n",
        "* FPR을 0에서 1까지 변경하는 것은 Positive 예측값을 결정하는 기준인 분류 결정 임곗값을 변경하면 됨. \n",
        "* FPR을 0으로 만들려면 임곗값을 1로 지정하고 반대로 FPR을 1로 만들려면 임곗값을 0으로 지정하면 됨."
      ]
    },
    {
      "cell_type": "code",
      "metadata": {
        "colab": {
          "base_uri": "https://localhost:8080/"
        },
        "id": "AqiMBnQfLv08",
        "outputId": "d1e6f618-716e-44c3-8e83-0a2044a8f37a"
      },
      "source": [
        "y_titanic_df = titanic_df['Survived']\n",
        "X_titanic_df = titanic_df.drop('Survived',axis=1)\n",
        "X_titanic_df = transform_features(X_titanic_df)\n",
        "\n",
        "X_train, X_test, y_train, y_test= train_test_split(X_titanic_df, y_titanic_df,\n",
        "                                                   test_size = 0.2, random_state=11)\n",
        "\n",
        "lr_clf = LogisticRegression()\n",
        "lr_clf.fit(X_train, y_train)\n",
        "pred = lr_clf.predict(X_test)\n",
        "accuracy_lr = accuracy_score(y_test, pred)\n",
        "accuracy_lr"
      ],
      "execution_count": 19,
      "outputs": [
        {
          "output_type": "execute_result",
          "data": {
            "text/plain": [
              "0.8491620111731844"
            ]
          },
          "metadata": {},
          "execution_count": 19
        }
      ]
    },
    {
      "cell_type": "code",
      "metadata": {
        "colab": {
          "base_uri": "https://localhost:8080/"
        },
        "id": "sTmLspz2MP6z",
        "outputId": "f6a21806-3a14-4ac6-98e9-c004cf597248"
      },
      "source": [
        "from sklearn.metrics import roc_curve\n",
        "\n",
        "pred_proba_c1 = lr_clf.predict_proba(X_test)[:,1]\n",
        "fprs, tprs, thresholds = roc_curve(y_test, pred_proba_c1)\n",
        "thr_index = np.arange(1, thresholds.shape[0],5)\n",
        "print(np.round(thresholds[thr_index],2))\n",
        "print(np.round(fprs[thr_index],2))\n",
        "print(np.round(tprs[thr_index],2))"
      ],
      "execution_count": 23,
      "outputs": [
        {
          "output_type": "stream",
          "name": "stdout",
          "text": [
            "[0.97 0.65 0.63 0.56 0.45 0.4  0.35 0.15 0.13 0.11 0.11]\n",
            "[0.   0.02 0.03 0.08 0.13 0.17 0.2  0.47 0.58 0.69 0.8 ]\n",
            "[0.03 0.64 0.72 0.75 0.8  0.84 0.89 0.9  0.93 0.97 0.98]\n"
          ]
        }
      ]
    },
    {
      "cell_type": "code",
      "metadata": {
        "colab": {
          "base_uri": "https://localhost:8080/",
          "height": 283
        },
        "id": "FJxRP1oNMWPj",
        "outputId": "4d11b8ee-d4f4-4071-e996-c1edcf25d11b"
      },
      "source": [
        "import matplotlib.pyplot as plt\n",
        "def roc_curve_plot(y_test, pred_proba_c1):\n",
        "  fprs, tprs, thresholds = roc_curve(y_test, pred_proba_c1)\n",
        "  plt.plot(fprs, tprs, label='ROC')\n",
        "  plt.plot([0,1],[0,1], 'k--', label='Random')\n",
        "\n",
        "  start, end = plt.xlim()\n",
        "  plt.xticks(np.round(np.arange(start, end, 0.1),2))\n",
        "  plt.xlim(0,1)\n",
        "  plt.ylim(0,1)\n",
        "  plt.xlabel('FPR(1-specificity')\n",
        "  plt.ylabel('TPR(Recall')\n",
        "  plt.legend()\n",
        "  plt.show()\n",
        "\n",
        "roc_curve_plot(y_test, lr_clf.predict_proba(X_test)[:,1])"
      ],
      "execution_count": 24,
      "outputs": [
        {
          "output_type": "display_data",
          "data": {
            "image/png": "[encoded data removed]",
            "text/plain": [
              "<Figure size 432x288 with 1 Axes>"
            ]
          },
          "metadata": {
            "needs_background": "light"
          }
        }
      ]
    },
    {
      "cell_type": "code",
      "metadata": {
        "colab": {
          "base_uri": "https://localhost:8080/"
        },
        "id": "ahCA2-cyOVpa",
        "outputId": "99913d8b-3b50-469a-f8e1-e0c8e6d9e371"
      },
      "source": [
        "from sklearn.metrics import roc_auc_score\n",
        "\n",
        "pred_proba = lr_clf.predict_proba(X_test)[:,1]\n",
        "roc_score = roc_auc_score(y_test, pred_proba)\n",
        "print(f'ROC AUC 값:{roc_score:.4f}')"
      ],
      "execution_count": 25,
      "outputs": [
        {
          "output_type": "stream",
          "name": "stdout",
          "text": [
            "ROC AUC 값:0.9024\n"
          ]
        }
      ]
    },
    {
      "cell_type": "code",
      "metadata": {
        "colab": {
          "base_uri": "https://localhost:8080/"
        },
        "id": "sknsInyvOsXt",
        "outputId": "5937dfaf-8bf0-472b-904e-70734dab7c6b"
      },
      "source": [
        "from sklearn.metrics import accuracy_score, precision_score, recall_score, f1_score, confusion_matrix, roc_auc_score\n",
        "\n",
        "def get_clf_eval(y_test, pred, pred_proba):\n",
        "  confusion = confusion_matrix(y_test, pred)\n",
        "  accuracy = accuracy_score(y_test, pred)\n",
        "  precision = precision_score(y_test, pred)\n",
        "  recall = recall_score(y_test, pred)\n",
        "  f1 = f1_score(y_test, pred)\n",
        "  roc_auc = roc_auc_score(y_test, pred_proba)\n",
        "  print('오차행렬')\n",
        "  print(confusion)\n",
        "  print(f'정확도:{accuracy:.4f}, 정밀도:{precision:.4f}, 재현률:{recall:.4f}, F1:{f1:.4f}, AUC:{roc_auc:.4f}')\n",
        "\n",
        "get_clf_eval(y_test, pred, pred_proba)"
      ],
      "execution_count": 27,
      "outputs": [
        {
          "output_type": "stream",
          "name": "stdout",
          "text": [
            "오차행렬\n",
            "[[104  14]\n",
            " [ 13  48]]\n",
            "정확도:0.8492, 정밀도:0.7742, 재현률:0.7869, F1:0.7805, AUC:0.9024\n"
          ]
        }
      ]
    },
    {
      "cell_type": "markdown",
      "metadata": {
        "id": "c6ad4SVGPkob"
      },
      "source": [
        "#### 과제\n",
        "Q. 분류기 - DT, parameters, cv=5, scoring='accuracy'를 적용하여 교차검증과 성능 개선을 위한 하이퍼파라미터 튜닝을 수행하여 최적의 모델을 생성한 후 평가하세요. 단, 평가는 분류 평가지표 모두를 포함하는 사용자 함수를 작성하여 수행  \n",
        "[파라미터]  \n",
        "- max_depth : [2,3,5,10]\n",
        "- min_samples_split : [2,3,5]\n",
        "- min_samples_leaf: [1,5,8]\n",
        "    "
      ]
    },
    {
      "cell_type": "code",
      "metadata": {
        "colab": {
          "base_uri": "https://localhost:8080/"
        },
        "id": "I_wclGQEPiyM",
        "outputId": "75aaa5bf-2600-4d89-e9ea-9708bc5f0e71"
      },
      "source": [
        "from sklearn.tree import DecisionTreeClassifier \n",
        "y_titanic_df = titanic_df['Survived']\n",
        "X_titanic_df = titanic_df.drop('Survived',axis=1)\n",
        "X_titanic_df = transform_features(X_titanic_df)\n",
        "\n",
        "X_train, X_test, y_train, y_test = train_test_split(X_titanic_df, y_titanic_df,\n",
        "                                                   test_size=0.2, random_state=11)\n",
        "\n",
        "dt_clf = DecisionTreeClassifier()\n",
        "dt_clf.fit(X_train,y_train)\n",
        "pred = dt_clf.predict(X_test)\n",
        "accuracy_dt = accuracy_score(y_test,pred)\n",
        "accuracy_dt"
      ],
      "execution_count": 28,
      "outputs": [
        {
          "output_type": "execute_result",
          "data": {
            "text/plain": [
              "0.7821229050279329"
            ]
          },
          "metadata": {},
          "execution_count": 28
        }
      ]
    },
    {
      "cell_type": "code",
      "metadata": {
        "colab": {
          "base_uri": "https://localhost:8080/"
        },
        "id": "xzk7PnngPpUq",
        "outputId": "a4653dba-393a-4324-d7a9-70db133f2da3"
      },
      "source": [
        "#  GridSearchCV : 교차검증과 성능 개선을 위한 하이퍼파라미터 튜닝을 동시에 수행\n",
        "# 교차 검증을 기반으로 하이퍼 파라미터의 최적 값을 찾게 해줌\n",
        "from sklearn.model_selection import GridSearchCV\n",
        "from sklearn.metrics import accuracy_score, precision_score , \\\n",
        "recall_score ,confusion_matrix, f1_score, roc_auc_score\n",
        "\n",
        "parameters = {'max_depth':[2,3,5,10], 'min_samples_split':[2,3,5],\\\n",
        "              'min_samples_leaf':[1,5,8]}\n",
        "\n",
        "grid_dclf = GridSearchCV(dt_clf, param_grid=parameters, scoring='accuracy', \\\n",
        "                         cv=5, refit=True)\n",
        "grid_dclf.fit(X_train, y_train)\n",
        "print(grid_dclf)\n",
        "print('GridSearchCV 최적 하이퍼 파라미터:', grid_dclf.best_params_)\n",
        "print('GridSeachCV 최고 정확도: {0:.4f}'.format(grid_dclf.best_score_))\n",
        "\n",
        "best_dclf = grid_dclf.best_estimator_\n",
        "print(best_dclf)\n",
        "dpredictions = best_dclf.predict(X_test)\n",
        "dpred_proba = best_dclf.predict_proba(X_test)[:,1]\n",
        "accuracy = accuracy_score(y_test, dpredictions)\n",
        "print('grid_dt 예측 정확도 :', accuracy)\n",
        "\n",
        "def get_clf_eval(y_test , dpredictions, dpred_proba):\n",
        "    confusion = confusion_matrix( y_test, dpredictions)\n",
        "    accuracy = accuracy_score(y_test , dpredictions)\n",
        "    precision = precision_score(y_test , dpredictions)\n",
        "    recall = recall_score(y_test , dpredictions)\n",
        "    f1 = f1_score(y_test,dpredictions)\n",
        "    roc_auc = roc_auc_score(y_test, dpred_proba)\n",
        "    print('오차 행렬')\n",
        "    print(confusion)\n",
        "    print()    \n",
        "    print('정확도: {0:.4f}, 정밀도: {1:.4f}, 재현율: {2:.4f},\\\n",
        "    F1: {3:.4f}, AUC:{4:.4f}'.format(accuracy, precision, recall, f1, roc_auc))\n",
        "get_clf_eval(y_test , dpredictions, dpred_proba)"
      ],
      "execution_count": 29,
      "outputs": [
        {
          "output_type": "stream",
          "name": "stdout",
          "text": [
            "GridSearchCV(cv=5, estimator=DecisionTreeClassifier(),\n",
            "             param_grid={'max_depth': [2, 3, 5, 10],\n",
            "                         'min_samples_leaf': [1, 5, 8],\n",
            "                         'min_samples_split': [2, 3, 5]},\n",
            "             scoring='accuracy')\n",
            "GridSearchCV 최적 하이퍼 파라미터: {'max_depth': 3, 'min_samples_leaf': 5, 'min_samples_split': 2}\n",
            "GridSeachCV 최고 정확도: 0.7992\n",
            "DecisionTreeClassifier(max_depth=3, min_samples_leaf=5)\n",
            "grid_dt 예측 정확도 : 0.8715083798882681\n",
            "오차 행렬\n",
            "[[109   9]\n",
            " [ 14  47]]\n",
            "\n",
            "정확도: 0.8715, 정밀도: 0.8393, 재현율: 0.7705,    F1: 0.8034, AUC:0.8937\n"
          ]
        }
      ]
    }
  ]
}